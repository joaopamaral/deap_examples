{
  "nbformat": 4,
  "nbformat_minor": 0,
  "metadata": {
    "colab": {
      "name": "examples",
      "provenance": [],
      "toc_visible": true,
      "include_colab_link": true
    },
    "kernelspec": {
      "name": "python3",
      "display_name": "Python 3"
    }
  },
  "cells": [
    {
      "cell_type": "markdown",
      "metadata": {
        "id": "view-in-github",
        "colab_type": "text"
      },
      "source": [
        "<a href=\"https://colab.research.google.com/github/joaopamaral/deap_examples/blob/master/examples.ipynb\" target=\"_parent\"><img src=\"https://colab.research.google.com/assets/colab-badge.svg\" alt=\"Open In Colab\"/></a>"
      ]
    },
    {
      "cell_type": "markdown",
      "metadata": {
        "id": "5eZQo7yKikfu",
        "colab_type": "text"
      },
      "source": [
        "# Entendendo o Framework DEAP"
      ]
    },
    {
      "cell_type": "markdown",
      "metadata": {
        "id": "WQgPD84Eiqnh",
        "colab_type": "text"
      },
      "source": [
        "## Instalando o pacote\n",
        "\n",
        "*O Colab não possui esse pacote instalado previamente*"
      ]
    },
    {
      "cell_type": "code",
      "metadata": {
        "id": "7kPznyDficB9",
        "colab_type": "code",
        "outputId": "8ca49f7c-ce2e-49ae-c603-8068a707af31",
        "colab": {
          "base_uri": "https://localhost:8080/",
          "height": 34
        }
      },
      "source": [
        "!pip install -q deap"
      ],
      "execution_count": 0,
      "outputs": [
        {
          "output_type": "stream",
          "text": [
            "\u001b[?25l\r\u001b[K     |██▏                             | 10kB 17.2MB/s eta 0:00:01\r\u001b[K     |████▎                           | 20kB 3.5MB/s eta 0:00:01\r\u001b[K     |██████▌                         | 30kB 5.0MB/s eta 0:00:01\r\u001b[K     |████████▋                       | 40kB 3.2MB/s eta 0:00:01\r\u001b[K     |██████████▉                     | 51kB 3.9MB/s eta 0:00:01\r\u001b[K     |█████████████                   | 61kB 4.6MB/s eta 0:00:01\r\u001b[K     |███████████████                 | 71kB 5.3MB/s eta 0:00:01\r\u001b[K     |█████████████████▎              | 81kB 5.9MB/s eta 0:00:01\r\u001b[K     |███████████████████▍            | 92kB 6.5MB/s eta 0:00:01\r\u001b[K     |█████████████████████▋          | 102kB 5.2MB/s eta 0:00:01\r\u001b[K     |███████████████████████▊        | 112kB 5.2MB/s eta 0:00:01\r\u001b[K     |█████████████████████████▉      | 122kB 5.2MB/s eta 0:00:01\r\u001b[K     |████████████████████████████    | 133kB 5.2MB/s eta 0:00:01\r\u001b[K     |██████████████████████████████▏ | 143kB 5.2MB/s eta 0:00:01\r\u001b[K     |████████████████████████████████| 153kB 5.2MB/s \n",
            "\u001b[?25h"
          ],
          "name": "stdout"
        }
      ]
    },
    {
      "cell_type": "code",
      "metadata": {
        "id": "Y2HPqboHjQWD",
        "colab_type": "code",
        "colab": {}
      },
      "source": [
        "from pprint import pprint\n",
        "import numpy as np\n",
        "from deap import base, creator, tools, algorithms"
      ],
      "execution_count": 0,
      "outputs": []
    },
    {
      "cell_type": "markdown",
      "metadata": {
        "id": "HQdXuWe2oH7K",
        "colab_type": "text"
      },
      "source": [
        "## Tipos\n",
        "\n",
        "\n",
        "O DEAP permite criar tipos customizados que serão utilizados para solução dos problemas"
      ]
    },
    {
      "cell_type": "markdown",
      "metadata": {
        "id": "Xbr0-wREiwEy",
        "colab_type": "text"
      },
      "source": [
        "### Definindo Tipos - Fitness e Indivíduo"
      ]
    },
    {
      "cell_type": "code",
      "metadata": {
        "id": "JynCcvhrivJ7",
        "colab_type": "code",
        "colab": {}
      },
      "source": [
        "creator.create(\"FitnessMin\", base.Fitness, weights=(-1.0,))\n",
        "creator.create(\"Individual\", list, fitness=creator.FitnessMin)"
      ],
      "execution_count": 0,
      "outputs": []
    },
    {
      "cell_type": "markdown",
      "metadata": {
        "id": "gow8mkB8Af-e",
        "colab_type": "text"
      },
      "source": [
        "#### Testando"
      ]
    },
    {
      "cell_type": "code",
      "metadata": {
        "id": "j9LeT0G4i6KN",
        "colab_type": "code",
        "outputId": "aabd2263-0537-4985-d960-3e50482f2d71",
        "colab": {
          "base_uri": "https://localhost:8080/",
          "height": 51
        }
      },
      "source": [
        "# checando os tipos criados\n",
        "ind_base = creator.Individual()\n",
        "\n",
        "print(type(ind_base), ind_base)\n",
        "print(type(ind_base.fitness), ind_base.fitness)"
      ],
      "execution_count": 0,
      "outputs": [
        {
          "output_type": "stream",
          "text": [
            "<class 'deap.creator.Individual'> []\n",
            "<class 'deap.creator.FitnessMin'> ()\n"
          ],
          "name": "stdout"
        }
      ]
    },
    {
      "cell_type": "markdown",
      "metadata": {
        "id": "SRAC03MRoFTG",
        "colab_type": "text"
      },
      "source": [
        "## Inicialização\n"
      ]
    },
    {
      "cell_type": "markdown",
      "metadata": {
        "id": "ans4C-i5jqfe",
        "colab_type": "text"
      },
      "source": [
        "### Inicializando indivíduo"
      ]
    },
    {
      "cell_type": "code",
      "metadata": {
        "id": "L_H6cR0NjfY_",
        "colab_type": "code",
        "colab": {}
      },
      "source": [
        "import random\n",
        "\n",
        "IND_SIZE = 10\n",
        "\n",
        "toolbox = base.Toolbox()\n",
        "toolbox.register('attr_hub', random.randint, 0, 5)\n",
        "toolbox.register('individual', tools.initRepeat, creator.Individual, toolbox.attr_hub, n=IND_SIZE)"
      ],
      "execution_count": 0,
      "outputs": []
    },
    {
      "cell_type": "markdown",
      "metadata": {
        "id": "tI6MM5KyArRF",
        "colab_type": "text"
      },
      "source": [
        "#### Testando"
      ]
    },
    {
      "cell_type": "code",
      "metadata": {
        "id": "sDXL_N_3kNs7",
        "colab_type": "code",
        "outputId": "98470d58-eda3-49d3-c4f4-8b670ef73437",
        "colab": {
          "base_uri": "https://localhost:8080/",
          "height": 51
        }
      },
      "source": [
        "# testando individuo\n",
        "ind = toolbox.individual()\n",
        "\n",
        "print(type(ind), ind)\n",
        "print(type(ind.fitness), ind.fitness, 'Evaluated' if ind.fitness.valid else 'Not Evaluated')"
      ],
      "execution_count": 0,
      "outputs": [
        {
          "output_type": "stream",
          "text": [
            "<class 'deap.creator.Individual'> [5, 3, 2, 4, 2, 2, 2, 5, 0, 4]\n",
            "<class 'deap.creator.FitnessMin'> () Not Evaluated\n"
          ],
          "name": "stdout"
        }
      ]
    },
    {
      "cell_type": "markdown",
      "metadata": {
        "id": "BvxZqIT-lkJL",
        "colab_type": "text"
      },
      "source": [
        "#### Exemplo permutação"
      ]
    },
    {
      "cell_type": "code",
      "metadata": {
        "id": "bETcSU3Tk8PV",
        "colab_type": "code",
        "colab": {}
      },
      "source": [
        "toolbox.register('indices', random.sample, range(IND_SIZE), IND_SIZE)\n",
        "toolbox.register('individual_perm', tools.initIterate, creator.Individual, toolbox.indices)"
      ],
      "execution_count": 0,
      "outputs": []
    },
    {
      "cell_type": "code",
      "metadata": {
        "id": "kfuS85xomCS7",
        "colab_type": "code",
        "outputId": "66b85993-11a2-4f2c-a289-d91539b1a92f",
        "colab": {
          "base_uri": "https://localhost:8080/",
          "height": 51
        }
      },
      "source": [
        "# testando inidividuo de permutação\n",
        "ind_perm = toolbox.individual_perm()\n",
        "\n",
        "print(type(ind_perm), ind_perm)\n",
        "print(type(ind_perm.fitness), ind_perm.fitness, 'Evaluated' if ind_perm.fitness.valid else 'Not Evaluated')"
      ],
      "execution_count": 0,
      "outputs": [
        {
          "output_type": "stream",
          "text": [
            "<class 'deap.creator.Individual'> [7, 3, 9, 4, 0, 6, 5, 1, 8, 2]\n",
            "<class 'deap.creator.FitnessMin'> () Not Evaluated\n"
          ],
          "name": "stdout"
        }
      ]
    },
    {
      "cell_type": "markdown",
      "metadata": {
        "id": "tofSbj5zoMQ6",
        "colab_type": "text"
      },
      "source": [
        "### Inicializando População"
      ]
    },
    {
      "cell_type": "code",
      "metadata": {
        "id": "eC-x6ITsmFdN",
        "colab_type": "code",
        "colab": {}
      },
      "source": [
        "toolbox.register('population', tools.initRepeat, list, toolbox.individual)"
      ],
      "execution_count": 0,
      "outputs": []
    },
    {
      "cell_type": "markdown",
      "metadata": {
        "id": "qayqQ_35Axz_",
        "colab_type": "text"
      },
      "source": [
        "#### Testando"
      ]
    },
    {
      "cell_type": "code",
      "metadata": {
        "id": "-eB5b5mYoW6s",
        "colab_type": "code",
        "outputId": "92c1162c-8eb8-4f9a-97e9-fda1dd67ccb4",
        "colab": {
          "base_uri": "https://localhost:8080/",
          "height": 289
        }
      },
      "source": [
        "# testando população\n",
        "population = toolbox.population(n=15)\n",
        "\n",
        "pprint(population)\n",
        "print(type(population), type(population[0]))"
      ],
      "execution_count": 0,
      "outputs": [
        {
          "output_type": "stream",
          "text": [
            "[[1, 2, 4, 5, 4, 1, 0, 3, 4, 4],\n",
            " [0, 0, 5, 4, 3, 0, 5, 2, 0, 1],\n",
            " [0, 5, 1, 0, 3, 0, 3, 2, 4, 2],\n",
            " [0, 3, 0, 5, 1, 1, 2, 0, 0, 4],\n",
            " [1, 1, 1, 2, 2, 1, 0, 0, 1, 1],\n",
            " [5, 2, 4, 2, 1, 2, 2, 0, 1, 2],\n",
            " [0, 4, 0, 2, 5, 5, 3, 0, 1, 2],\n",
            " [0, 0, 0, 2, 5, 2, 2, 2, 5, 2],\n",
            " [5, 1, 0, 2, 0, 5, 4, 5, 4, 0],\n",
            " [4, 3, 1, 5, 4, 5, 1, 2, 2, 0],\n",
            " [5, 1, 2, 3, 3, 3, 2, 3, 4, 1],\n",
            " [3, 5, 5, 3, 1, 4, 4, 3, 2, 3],\n",
            " [4, 5, 5, 4, 4, 2, 1, 0, 2, 0],\n",
            " [2, 1, 4, 1, 0, 3, 0, 5, 0, 3],\n",
            " [3, 5, 3, 4, 1, 2, 1, 3, 1, 5]]\n",
            "<class 'list'> <class 'deap.creator.Individual'>\n"
          ],
          "name": "stdout"
        }
      ]
    },
    {
      "cell_type": "markdown",
      "metadata": {
        "id": "12uRCsbIT-SK",
        "colab_type": "text"
      },
      "source": [
        "## Operadores"
      ]
    },
    {
      "cell_type": "markdown",
      "metadata": {
        "id": "xRr6ZyqYUAuB",
        "colab_type": "text"
      },
      "source": [
        "### Cruzamento"
      ]
    },
    {
      "cell_type": "code",
      "metadata": {
        "id": "VY1bN1bRonbM",
        "colab_type": "code",
        "outputId": "ec6f5782-c584-4f7e-ad44-e9847149b37d",
        "colab": {
          "base_uri": "https://localhost:8080/",
          "height": 51
        }
      },
      "source": [
        "ind1 = toolbox.individual()\n",
        "ind2 = toolbox.individual()\n",
        "\n",
        "print('Individuo 1: ', ind1)\n",
        "print('Individuo 2: ', ind2)\n",
        "\n",
        "def compare_ind(i1, i2):\n",
        "    return ['-' if a == b else 'x' for a, b in zip(i1, i2)]"
      ],
      "execution_count": 0,
      "outputs": [
        {
          "output_type": "stream",
          "text": [
            "Individuo 1:  [4, 5, 5, 4, 1, 5, 4, 3, 0, 5]\n",
            "Individuo 2:  [0, 2, 0, 3, 3, 1, 1, 5, 2, 3]\n"
          ],
          "name": "stdout"
        }
      ]
    },
    {
      "cell_type": "code",
      "metadata": {
        "id": "k8k-5Yzpy89e",
        "colab_type": "code",
        "outputId": "5d43c64e-83f8-4e1b-d6bc-9f8ef5ec8a64",
        "colab": {
          "base_uri": "https://localhost:8080/",
          "height": 272
        }
      },
      "source": [
        "child1, child2 = map(toolbox.clone, [ind1, ind2])\n",
        "child1, child2 = tools.cxOnePoint(child1, child2)\n",
        "print('\\n\\ncxOnePoint')\n",
        "print('Child1: ', child1, compare_ind(child1, ind1))\n",
        "print('Child2: ', child2, compare_ind(child2, ind2))\n",
        "\n",
        "print('\\n\\ncxTwoPoint')\n",
        "child1, child2 = map(toolbox.clone, [ind1, ind2])\n",
        "child1, child2 = tools.cxTwoPoint(child1, child2)\n",
        "print('Child1: ', child1, compare_ind(child1, ind1))\n",
        "print('Child2: ', child2, compare_ind(child2, ind2))\n",
        "\n",
        "print('\\n\\ncxUniform')\n",
        "child1, child2 = map(toolbox.clone, [ind1, ind2])\n",
        "child1, child2 = tools.cxUniform(child1, child2, indpb=0.1)\n",
        "print('Child1: ', child1, compare_ind(child1, ind1))\n",
        "print('Child2: ', child2, compare_ind(child2, ind2))"
      ],
      "execution_count": 0,
      "outputs": [
        {
          "output_type": "stream",
          "text": [
            "\n",
            "\n",
            "cxOnePoint\n",
            "Child1:  [4, 5, 5, 4, 1, 5, 4, 3, 0, 3] ['-', '-', '-', '-', '-', '-', '-', '-', '-', 'x']\n",
            "Child2:  [0, 2, 0, 3, 3, 1, 1, 5, 2, 5] ['-', '-', '-', '-', '-', '-', '-', '-', '-', 'x']\n",
            "\n",
            "\n",
            "cxTwoPoint\n",
            "Child1:  [4, 5, 5, 4, 1, 5, 1, 5, 2, 5] ['-', '-', '-', '-', '-', '-', 'x', 'x', 'x', '-']\n",
            "Child2:  [0, 2, 0, 3, 3, 1, 4, 3, 0, 3] ['-', '-', '-', '-', '-', '-', 'x', 'x', 'x', '-']\n",
            "\n",
            "\n",
            "cxUniform\n",
            "Child1:  [4, 5, 5, 4, 1, 5, 4, 3, 0, 5] ['-', '-', '-', '-', '-', '-', '-', '-', '-', '-']\n",
            "Child2:  [0, 2, 0, 3, 3, 1, 1, 5, 2, 3] ['-', '-', '-', '-', '-', '-', '-', '-', '-', '-']\n"
          ],
          "name": "stdout"
        }
      ]
    },
    {
      "cell_type": "code",
      "metadata": {
        "id": "GkajE4tsh8Am",
        "colab_type": "code",
        "colab": {}
      },
      "source": [
        "# Registrando o operador de cruzamento na toolbox\n",
        "toolbox.register(\"mate\", tools.cxTwoPoint)"
      ],
      "execution_count": 0,
      "outputs": []
    },
    {
      "cell_type": "markdown",
      "metadata": {
        "id": "D7FgaaPhi9aD",
        "colab_type": "text"
      },
      "source": [
        "### Mutação"
      ]
    },
    {
      "cell_type": "code",
      "metadata": {
        "id": "mZmE-sNOcFDC",
        "colab_type": "code",
        "outputId": "e035f063-884e-44b0-9e7f-f6b4b14defa8",
        "colab": {
          "base_uri": "https://localhost:8080/",
          "height": 34
        }
      },
      "source": [
        "ind1 = toolbox.individual()\n",
        "\n",
        "print('Individuo 1: ', ind1)"
      ],
      "execution_count": 0,
      "outputs": [
        {
          "output_type": "stream",
          "text": [
            "Individuo 1:  [5, 4, 2, 5, 3, 2, 0, 3, 0, 5]\n"
          ],
          "name": "stdout"
        }
      ]
    },
    {
      "cell_type": "code",
      "metadata": {
        "id": "v4c_Ntn_zBfh",
        "colab_type": "code",
        "outputId": "2efc6c45-9f1f-4a51-e322-4dc98dbcdfa3",
        "colab": {
          "base_uri": "https://localhost:8080/",
          "height": 289
        }
      },
      "source": [
        "child1 = toolbox.clone(ind1)\n",
        "child1 = tools.mutGaussian(child1, mu=2, sigma=2, indpb=0.5)[0]\n",
        "print('\\n\\nmutGaussian')\n",
        "print('Child1: ', child1, compare_ind(child1, ind1))\n",
        "\n",
        "child1 = toolbox.clone(ind1)\n",
        "child1 = tools.mutShuffleIndexes(child1, indpb=0.5)[0]\n",
        "print('\\n\\nmutShuffleIndexes')\n",
        "print('Child1: ', child1, compare_ind(child1, ind1))\n",
        "\n",
        "child1 = toolbox.clone(ind1)\n",
        "child1 = tools.mutFlipBit(child1, indpb=0.5)[0]\n",
        "print('\\n\\nmutFlipBit')\n",
        "print('Child1: ', child1, compare_ind(child1, ind1))\n",
        "\n",
        "child1 = toolbox.clone(ind1)\n",
        "child1 = tools.mutUniformInt(child1, low=0, up= 5, indpb=0.5)[0]\n",
        "print('\\n\\nmutUniformInt')\n",
        "print('Child1: ', child1, compare_ind(child1, ind1))"
      ],
      "execution_count": 0,
      "outputs": [
        {
          "output_type": "stream",
          "text": [
            "\n",
            "\n",
            "mutGaussian\n",
            "Child1:  [8.754307441303391, 5.774344245835431, 2, 5, 2.7533913567664277, 2, 0, 5.274820041066986, 0, 2.722430682741396] ['x', 'x', '-', '-', 'x', '-', '-', 'x', '-', 'x']\n",
            "\n",
            "\n",
            "mutShuffleIndexes\n",
            "Child1:  [5, 4, 3, 5, 0, 2, 0, 3, 2, 5] ['-', '-', 'x', '-', 'x', '-', '-', '-', 'x', '-']\n",
            "\n",
            "\n",
            "mutFlipBit\n",
            "Child1:  [5, 4, 2, 5, 0, 2, 1, 0, 1, 5] ['-', '-', '-', '-', 'x', '-', 'x', 'x', 'x', '-']\n",
            "\n",
            "\n",
            "mutUniformInt\n",
            "Child1:  [5, 3, 5, 1, 3, 2, 0, 3, 0, 5] ['-', 'x', 'x', 'x', '-', '-', '-', '-', '-', '-']\n"
          ],
          "name": "stdout"
        }
      ]
    },
    {
      "cell_type": "code",
      "metadata": {
        "id": "QAyOAihDjhy1",
        "colab_type": "code",
        "colab": {}
      },
      "source": [
        "# Registrando o operador de cruzamento na toolbox\n",
        "toolbox.register(\"mutate\", tools.mutUniformInt, low=0, up=5, indpb=0.1)"
      ],
      "execution_count": 0,
      "outputs": []
    },
    {
      "cell_type": "markdown",
      "metadata": {
        "id": "-9tMg_ogqv9o",
        "colab_type": "text"
      },
      "source": [
        "## Avaliação"
      ]
    },
    {
      "cell_type": "code",
      "metadata": {
        "id": "Ddwm9Khimhtw",
        "colab_type": "code",
        "outputId": "239bdc69-f0b4-4064-f808-d895a6615e10",
        "colab": {
          "base_uri": "https://localhost:8080/",
          "height": 85
        }
      },
      "source": [
        "ind1 = toolbox.individual()\n",
        "print('Individuo 1: ', ind1)\n",
        "\n",
        "def my_evaluation1(individual):\n",
        "    return sum(individual), \n",
        "\n",
        "print(f'\\nEvaluated Fitness: {ind1.fitness.valid}')\n",
        "ind1.fitness.values = my_evaluation1(ind1)\n",
        "print(f'Evaluated Fitness: {ind1.fitness.valid} | Value: {ind1.fitness}')"
      ],
      "execution_count": 0,
      "outputs": [
        {
          "output_type": "stream",
          "text": [
            "Individuo 1:  [5, 1, 1, 2, 5, 5, 1, 2, 3, 0]\n",
            "\n",
            "Evaluated Fitness: False\n",
            "Evaluated Fitness: True | Value: (25.0,)\n"
          ],
          "name": "stdout"
        }
      ]
    },
    {
      "cell_type": "code",
      "metadata": {
        "id": "LH_IVUnLxgjV",
        "colab_type": "code",
        "colab": {}
      },
      "source": [
        "# Registrando o operador de avaliação na toolbox\n",
        "toolbox.register(\"evaluate\", my_evaluation1)"
      ],
      "execution_count": 0,
      "outputs": []
    },
    {
      "cell_type": "markdown",
      "metadata": {
        "id": "NYOE3sGI0AHs",
        "colab_type": "text"
      },
      "source": [
        "## Seleção"
      ]
    },
    {
      "cell_type": "code",
      "metadata": {
        "id": "bL9Ce0A0zaSR",
        "colab_type": "code",
        "outputId": "c6936b73-9ef1-480f-f868-ef4db676d69d",
        "colab": {
          "base_uri": "https://localhost:8080/",
          "height": 833
        }
      },
      "source": [
        "population = toolbox.population(n=15)\n",
        "for individual in population:\n",
        "    individual.fitness.values = my_evaluation1(individual)\n",
        "\n",
        "def print_pop_fit(pop):\n",
        "    pprint([[individual, individual.fitness.values] for individual in pop])\n",
        "\n",
        "\n",
        "print('População:')\n",
        "print_pop_fit(population)\n",
        "\n",
        "print('\\n\\nselTournament:')\n",
        "print_pop_fit(tools.selTournament(population, k=5, tournsize=3))\n",
        "\n",
        "print('\\n\\nselRoulette:')\n",
        "print_pop_fit(tools.selRoulette(population, k=5))\n",
        "\n",
        "print('\\n\\nselBest:')\n",
        "print_pop_fit(tools.selBest(population, k=5))\n",
        "\n",
        "print('\\n\\nselWorst:')\n",
        "print_pop_fit(tools.selWorst(population, k=5))"
      ],
      "execution_count": 0,
      "outputs": [
        {
          "output_type": "stream",
          "text": [
            "População:\n",
            "[[[0, 4, 0, 2, 0, 3, 1, 0, 0, 5], (15.0,)],\n",
            " [[5, 4, 0, 1, 1, 3, 3, 0, 3, 2], (22.0,)],\n",
            " [[3, 5, 1, 5, 0, 2, 0, 0, 1, 5], (22.0,)],\n",
            " [[2, 2, 3, 1, 3, 2, 5, 3, 1, 1], (23.0,)],\n",
            " [[0, 4, 5, 4, 3, 3, 5, 5, 1, 2], (32.0,)],\n",
            " [[0, 1, 1, 5, 4, 1, 5, 5, 1, 3], (26.0,)],\n",
            " [[2, 4, 0, 4, 3, 4, 4, 0, 1, 2], (24.0,)],\n",
            " [[1, 3, 2, 1, 0, 5, 4, 0, 4, 4], (24.0,)],\n",
            " [[3, 1, 4, 2, 1, 0, 5, 1, 3, 5], (25.0,)],\n",
            " [[3, 3, 1, 2, 3, 1, 0, 2, 5, 1], (21.0,)],\n",
            " [[2, 4, 3, 1, 2, 4, 3, 2, 2, 3], (26.0,)],\n",
            " [[0, 3, 4, 4, 4, 5, 4, 5, 3, 4], (36.0,)],\n",
            " [[3, 4, 0, 0, 5, 5, 0, 4, 5, 0], (26.0,)],\n",
            " [[0, 5, 4, 4, 5, 3, 4, 4, 5, 2], (36.0,)],\n",
            " [[3, 2, 1, 4, 0, 4, 0, 3, 5, 0], (22.0,)]]\n",
            "\n",
            "\n",
            "selTournament:\n",
            "[[[0, 4, 0, 2, 0, 3, 1, 0, 0, 5], (15.0,)],\n",
            " [[1, 3, 2, 1, 0, 5, 4, 0, 4, 4], (24.0,)],\n",
            " [[2, 4, 0, 4, 3, 4, 4, 0, 1, 2], (24.0,)],\n",
            " [[3, 2, 1, 4, 0, 4, 0, 3, 5, 0], (22.0,)],\n",
            " [[3, 2, 1, 4, 0, 4, 0, 3, 5, 0], (22.0,)]]\n",
            "\n",
            "\n",
            "selRoulette:\n",
            "[[[0, 1, 1, 5, 4, 1, 5, 5, 1, 3], (26.0,)],\n",
            " [[0, 5, 4, 4, 5, 3, 4, 4, 5, 2], (36.0,)],\n",
            " [[0, 4, 5, 4, 3, 3, 5, 5, 1, 2], (32.0,)],\n",
            " [[5, 4, 0, 1, 1, 3, 3, 0, 3, 2], (22.0,)],\n",
            " [[2, 4, 0, 4, 3, 4, 4, 0, 1, 2], (24.0,)]]\n",
            "\n",
            "\n",
            "selBest:\n",
            "[[[0, 4, 0, 2, 0, 3, 1, 0, 0, 5], (15.0,)],\n",
            " [[3, 3, 1, 2, 3, 1, 0, 2, 5, 1], (21.0,)],\n",
            " [[5, 4, 0, 1, 1, 3, 3, 0, 3, 2], (22.0,)],\n",
            " [[3, 5, 1, 5, 0, 2, 0, 0, 1, 5], (22.0,)],\n",
            " [[3, 2, 1, 4, 0, 4, 0, 3, 5, 0], (22.0,)]]\n",
            "\n",
            "\n",
            "selWorst:\n",
            "[[[0, 3, 4, 4, 4, 5, 4, 5, 3, 4], (36.0,)],\n",
            " [[0, 5, 4, 4, 5, 3, 4, 4, 5, 2], (36.0,)],\n",
            " [[0, 4, 5, 4, 3, 3, 5, 5, 1, 2], (32.0,)],\n",
            " [[0, 1, 1, 5, 4, 1, 5, 5, 1, 3], (26.0,)],\n",
            " [[2, 4, 3, 1, 2, 4, 3, 2, 2, 3], (26.0,)]]\n"
          ],
          "name": "stdout"
        }
      ]
    },
    {
      "cell_type": "code",
      "metadata": {
        "id": "n3W9y8NXl-06",
        "colab_type": "code",
        "colab": {}
      },
      "source": [
        "# Registrando o operador de seleção na toolbox\n",
        "toolbox.register(\"select\", tools.selTournament, tournsize=3)"
      ],
      "execution_count": 0,
      "outputs": []
    },
    {
      "cell_type": "markdown",
      "metadata": {
        "id": "8zctpGIKsNYk",
        "colab_type": "text"
      },
      "source": [
        "## Variações"
      ]
    },
    {
      "cell_type": "code",
      "metadata": {
        "id": "5YpLsziNsKgi",
        "colab_type": "code",
        "outputId": "0f303c7b-16c1-49fe-98d2-8985a06f226e",
        "colab": {
          "base_uri": "https://localhost:8080/",
          "height": 289
        }
      },
      "source": [
        "toolbox.register(\"mate\", tools.cxTwoPoint)\n",
        "toolbox.register(\"mutate\", tools.mutUniformInt, low=0, up=5, indpb=0.1)\n",
        "\n",
        "population = toolbox.population(n=15)\n",
        "for i in population:\n",
        "    i.fitness.values = my_evaluation1(i)\n",
        "\n",
        "offspring = algorithms.varAnd(population, toolbox, cxpb=0.7, mutpb=0.1)\n",
        "\n",
        "print('\\tPopulação\\t\\t|\\t\\tFilhos\\t\\t|\\tMudanças')\n",
        "pprint([[p1, o1, ' '.join(['x' if z1 != z2 else '-' for z1, z2 in zip(p1, o1)]), o1.fitness.valid] \n",
        "        for p1, o1 in zip(population, offspring)], width=100)"
      ],
      "execution_count": 0,
      "outputs": [
        {
          "output_type": "stream",
          "text": [
            "\tPopulação\t\t|\t\tFilhos\t\t|\tMudanças\n",
            "[[[4, 1, 4, 5, 2, 1, 2, 0, 3, 4], [4, 1, 4, 5, 2, 0, 5, 0, 3, 4], '- - - - - x x - - -', False],\n",
            " [[3, 3, 5, 5, 1, 0, 5, 2, 2, 4], [3, 3, 5, 5, 1, 1, 2, 2, 2, 4], '- - - - - x x - - -', False],\n",
            " [[4, 4, 3, 0, 5, 3, 3, 0, 1, 4], [4, 4, 3, 0, 5, 3, 3, 0, 1, 4], '- - - - - - - - - -', True],\n",
            " [[2, 2, 0, 0, 0, 2, 1, 2, 2, 1], [2, 2, 0, 0, 0, 2, 1, 2, 2, 1], '- - - - - - - - - -', True],\n",
            " [[5, 1, 2, 3, 5, 4, 4, 5, 3, 4], [5, 1, 1, 3, 5, 4, 4, 5, 3, 4], '- - x - - - - - - -', False],\n",
            " [[2, 0, 1, 0, 0, 4, 1, 4, 2, 2], [2, 0, 2, 0, 0, 4, 1, 4, 2, 2], '- - x - - - - - - -', False],\n",
            " [[0, 5, 1, 2, 3, 0, 4, 5, 5, 0], [0, 5, 1, 2, 4, 0, 0, 0, 0, 1], '- - - - x - x x x x', False],\n",
            " [[0, 2, 0, 1, 4, 0, 0, 0, 0, 1], [0, 2, 0, 1, 3, 0, 4, 5, 5, 0], '- - - - x - x x x x', False],\n",
            " [[2, 3, 5, 1, 0, 2, 1, 1, 1, 3], [2, 3, 5, 1, 0, 2, 1, 1, 1, 3], '- - - - - - - - - -', True],\n",
            " [[3, 0, 2, 5, 2, 5, 1, 5, 0, 0], [3, 0, 2, 5, 2, 5, 1, 5, 0, 0], '- - - - - - - - - -', True],\n",
            " [[5, 3, 4, 1, 2, 2, 0, 1, 1, 1], [5, 3, 4, 1, 2, 2, 0, 1, 1, 1], '- - - - - - - - - -', True],\n",
            " [[2, 3, 2, 5, 1, 0, 5, 3, 5, 5], [2, 3, 2, 5, 1, 0, 5, 3, 5, 5], '- - - - - - - - - -', True],\n",
            " [[0, 3, 3, 1, 4, 3, 3, 5, 5, 5], [0, 4, 0, 1, 4, 3, 3, 5, 5, 5], '- x x - - - - - - -', False],\n",
            " [[1, 4, 0, 1, 2, 4, 1, 4, 3, 3], [1, 3, 3, 1, 2, 4, 1, 4, 3, 3], '- x x - - - - - - -', False],\n",
            " [[3, 5, 5, 4, 4, 0, 5, 4, 5, 4], [3, 5, 5, 4, 4, 0, 5, 4, 5, 4], '- - - - - - - - - -', True]]\n"
          ],
          "name": "stdout"
        }
      ]
    },
    {
      "cell_type": "markdown",
      "metadata": {
        "id": "Tbohqma5i0f_",
        "colab_type": "text"
      },
      "source": [
        "## Algoritmos"
      ]
    },
    {
      "cell_type": "code",
      "metadata": {
        "id": "AntYxP65weng",
        "colab_type": "code",
        "colab": {}
      },
      "source": [
        "population = toolbox.population(n=50)\n",
        "\n",
        "def my_evaluation1(individual):\n",
        "    return sum(individual), \n",
        "\n",
        "toolbox.register(\"mate\", tools.cxTwoPoint)\n",
        "toolbox.register(\"mutate\", tools.mutUniformInt, low=0, up=5, indpb=0.1)\n",
        "toolbox.register(\"select\", tools.selTournament, tournsize=3)\n",
        "toolbox.register(\"evaluate\", my_evaluation1)\n",
        "\n",
        "\n",
        "stats = tools.Statistics(key=lambda ind: ind.fitness.values)\n",
        "stats.register(\"avg\", np.mean, axis=0)\n",
        "stats.register(\"std\", np.std, axis=0)\n",
        "stats.register(\"min\", np.min, axis=0)\n",
        "stats.register(\"max\", np.max, axis=0)\n",
        "\n",
        "\n",
        "pop, logbook = algorithms.eaSimple(population, toolbox, cxpb=0.5, mutpb=0.1, ngen=50, stats=stats, verbose=False)"
      ],
      "execution_count": 0,
      "outputs": []
    },
    {
      "cell_type": "code",
      "metadata": {
        "id": "xD5EXbcxttp9",
        "colab_type": "code",
        "outputId": "6e6671a6-bf80-4c5b-a2a6-09c3db5f7467",
        "colab": {
          "base_uri": "https://localhost:8080/",
          "height": 283
        }
      },
      "source": [
        "gen, fit_mins, size_avgs = logbook.select(\"gen\", \"min\", \"avg\")\n",
        "\n",
        "%matplotlib inline\n",
        "import matplotlib.pyplot as plt\n",
        "\n",
        "fig, ax1 = plt.subplots()\n",
        "line1 = ax1.plot(gen, fit_mins, \"b-\", label=\"Minimum Fitness\")\n",
        "ax1.set_xlabel(\"Generation\")\n",
        "ax1.set_ylabel(\"Fitness\", color=\"b\")\n",
        "for tl in ax1.get_yticklabels():\n",
        "    tl.set_color(\"b\")\n",
        "\n",
        "ax2 = ax1.twinx()\n",
        "line2 = ax2.plot(gen, size_avgs, \"r-\", label=\"Average Size\")\n",
        "ax2.set_ylabel(\"Size\", color=\"r\")\n",
        "for tl in ax2.get_yticklabels():\n",
        "    tl.set_color(\"r\")\n",
        "\n",
        "lns = line1 + line2\n",
        "labs = [l.get_label() for l in lns]\n",
        "ax1.legend(lns, labs, loc=\"center right\")\n",
        "\n",
        "plt.show()"
      ],
      "execution_count": 0,
      "outputs": [
        {
          "output_type": "display_data",
          "data": {
            "image/png": "[encoded data removed]",
            "text/plain": [
              "<Figure size 432x288 with 2 Axes>"
            ]
          },
          "metadata": {
            "tags": []
          }
        }
      ]
    }
  ]
}